{
 "cells": [
  {
   "cell_type": "code",
   "execution_count": 1,
   "id": "6621710b-8794-424d-ba33-c6e3bbae9949",
   "metadata": {},
   "outputs": [],
   "source": [
    "# Importing libraries\n",
    "import requests\n",
    "import tkinter as tk\n",
    "from tkinter import messagebox\n",
    "\n",
    "# Fetching advice from the advice api\n",
    "\n",
    "\n",
    "def advice():\n",
    "    try:\n",
    "        res = requests.get(\"https://api.adviceslip.com/advice\").json()\n",
    "        advice_text.set(res[\"slip\"][\"advice\"])\n",
    "    except requests.exceptions.RequestException:\n",
    "        messagebox.showerror(\n",
    "            \"Error\", \"Failed to fetch advice. Please check your internet connection.\")\n",
    "\n",
    "\n",
    "# Create the main window\n",
    "root = tk.Tk()\n",
    "root.title(\"Random Advisor Application\")\n",
    "\n",
    "# Create and configure widgets\n",
    "advice_text = tk.StringVar()\n",
    "advice_label = tk.Label(root, textvariable=advice_text,\n",
    "                        wraplength=400, font=(\"Arial\", 14))\n",
    "get_advice_button = tk.Button(root, text=\"Get Advice\", command=advice)\n",
    "\n",
    "# Pack widgets\n",
    "advice_label.pack(pady=20)\n",
    "get_advice_button.pack(pady=10)\n",
    "\n",
    "# Initial advice fetching\n",
    "advice()\n",
    "\n",
    "# Run the main event loop\n",
    "root.mainloop()"
   ]
  },
  {
   "cell_type": "code",
   "execution_count": null,
   "id": "96f89572-abe6-432b-88e8-828647dbba23",
   "metadata": {},
   "outputs": [],
   "source": []
  }
 ],
 "metadata": {
  "kernelspec": {
   "display_name": "Python 3 (ipykernel)",
   "language": "python",
   "name": "python3"
  },
  "language_info": {
   "codemirror_mode": {
    "name": "ipython",
    "version": 3
   },
   "file_extension": ".py",
   "mimetype": "text/x-python",
   "name": "python",
   "nbconvert_exporter": "python",
   "pygments_lexer": "ipython3",
   "version": "3.12.4"
  }
 },
 "nbformat": 4,
 "nbformat_minor": 5
}
